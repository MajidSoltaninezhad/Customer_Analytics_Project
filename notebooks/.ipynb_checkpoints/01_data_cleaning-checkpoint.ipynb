{
 "cells": [
  {
   "cell_type": "code",
   "execution_count": 9,
   "id": "a8e15cae-7960-4f64-be80-e9603219cac0",
   "metadata": {},
   "outputs": [],
   "source": [
    "#Step 1: Data Cleaning Notebook\n",
    "# 1. Import libraries\n",
    "import pandas as pd\n",
    "import numpy as np"
   ]
  },
  {
   "cell_type": "code",
   "execution_count": 18,
   "id": "e5bc9927-c174-4bc6-871e-f2e81a0c0138",
   "metadata": {},
   "outputs": [],
   "source": [
    "# 2. Load database\n",
    "df = pd.read_csv(\"./data/telco_customer_churn.csv\")"
   ]
  },
  {
   "cell_type": "code",
   "execution_count": null,
   "id": "ea478486-03de-4b8c-be13-e4d5182e2f0b",
   "metadata": {},
   "outputs": [],
   "source": []
  }
 ],
 "metadata": {
  "kernelspec": {
   "display_name": "Python 3 (ipykernel)",
   "language": "python",
   "name": "python3"
  },
  "language_info": {
   "codemirror_mode": {
    "name": "ipython",
    "version": 3
   },
   "file_extension": ".py",
   "mimetype": "text/x-python",
   "name": "python",
   "nbconvert_exporter": "python",
   "pygments_lexer": "ipython3",
   "version": "3.14.0"
  }
 },
 "nbformat": 4,
 "nbformat_minor": 5
}
